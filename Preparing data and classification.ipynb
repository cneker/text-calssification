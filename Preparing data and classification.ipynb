{
 "cells": [
  {
   "cell_type": "code",
   "execution_count": null,
   "id": "6e1d462b",
   "metadata": {},
   "outputs": [],
   "source": [
    "import pandas as pd\n",
    "import spacy\n",
    "import numpy as np\n",
    "from matplotlib import pyplot as plt\n",
    "import seaborn as sn\n",
    "import joblib\n",
    "\n",
    "from sklearn.model_selection import train_test_split\n",
    "from sklearn.metrics import classification_report\n",
    "from sklearn.metrics import confusion_matrix\n",
    "\n",
    "from sklearn.naive_bayes import GaussianNB\n",
    "from sklearn.preprocessing import MinMaxScaler\n",
    "from sklearn.tree import DecisionTreeClassifier\n",
    "from sklearn.ensemble import GradientBoostingClassifier\n",
    "\n",
    "from sklearn.neighbors import KNeighborsClassifier"
   ]
  },
  {
   "cell_type": "code",
   "execution_count": null,
   "id": "eb2914e7",
   "metadata": {},
   "outputs": [],
   "source": [
    "nlp = spacy.load(\"ru2_combined_400ks_96\")\n",
    "\n",
    "df = pd.read_csv(\"description11 - description3-8.csv\")\n",
    "#df['Label'].value_counts()"
   ]
  },
  {
   "cell_type": "code",
   "execution_count": null,
   "id": "08457cf0",
   "metadata": {
    "scrolled": true
   },
   "outputs": [],
   "source": [
    "#The Name and Author values are our classes\n",
    "df['Label_num'] = df['Label'].map({'Name' : 0, 'Author': 1, 'Other' : 2})\n",
    "#The Text column is values we classify\n",
    "df['Vector'] = df['Text2'].apply(lambda text: nlp(text).vector) "
   ]
  },
  {
   "cell_type": "code",
   "execution_count": null,
   "id": "f2dd7957",
   "metadata": {},
   "outputs": [],
   "source": [
    "df.Label_num.unique()"
   ]
  },
  {
   "cell_type": "code",
   "execution_count": null,
   "id": "61a191c7",
   "metadata": {},
   "outputs": [],
   "source": [
    "X_train, X_test, y_train, y_test = train_test_split(\n",
    "    df.Vector.values,\n",
    "    df.Label_num,\n",
    "    test_size=0.1,\n",
    "    random_state=6\n",
    ")\n",
    "\n",
    "X_train_2d = np.stack(X_train)\n",
    "X_test_2d = np.stack(X_test)"
   ]
  },
  {
   "cell_type": "code",
   "execution_count": null,
   "id": "fbf65241",
   "metadata": {},
   "outputs": [],
   "source": [
    "y_test"
   ]
  },
  {
   "attachments": {},
   "cell_type": "markdown",
   "id": "b7422b69",
   "metadata": {},
   "source": [
    "# TREE"
   ]
  },
  {
   "cell_type": "code",
   "execution_count": null,
   "id": "1dea4d7d",
   "metadata": {},
   "outputs": [],
   "source": [
    "scaler = MinMaxScaler()\n",
    "scaled_train_embed = scaler.fit_transform(X_train_2d)\n",
    "scaled_test_embed_tree = scaler.transform(X_test_2d)\n",
    "\n",
    "tree = DecisionTreeClassifier(random_state=0)\n",
    "tree.fit(scaled_train_embed, y_train)"
   ]
  },
  {
   "cell_type": "code",
   "execution_count": null,
   "id": "d08140f2",
   "metadata": {},
   "outputs": [],
   "source": [
    "scaled_test_embed = scaler.transform(X_test_2d)\n",
    "y_pred = tree.predict(scaled_test_embed)\n",
    "\n",
    "print(classification_report(y_test, y_pred))"
   ]
  },
  {
   "cell_type": "code",
   "execution_count": null,
   "id": "35c0705b",
   "metadata": {},
   "outputs": [],
   "source": [
    "cm = confusion_matrix(y_test, y_pred)\n",
    "\n",
    "plt.figure(figsize = (10,7))\n",
    "sn.heatmap(cm, annot=True, fmt='d')\n",
    "plt.xlabel('Prediction')\n",
    "plt.ylabel('Truth')"
   ]
  },
  {
   "cell_type": "code",
   "execution_count": null,
   "id": "6aa5706a",
   "metadata": {},
   "outputs": [],
   "source": [
    "#save the model\n",
    "joblib.dump(tree, 'model_tree3.pkl') "
   ]
  },
  {
   "attachments": {},
   "cell_type": "markdown",
   "id": "7492dcb4",
   "metadata": {},
   "source": [
    "# MultinomialNB"
   ]
  },
  {
   "cell_type": "code",
   "execution_count": null,
   "id": "9500f2ff",
   "metadata": {},
   "outputs": [],
   "source": [
    "scaler = MinMaxScaler()\n",
    "scaled_train_embed = scaler.fit_transform(X_train_2d)\n",
    "scaled_test_embed = scaler.transform(X_test_2d)\n",
    "\n",
    "nb = GaussianNB()\n",
    "nb.fit(scaled_train_embed, y_train)"
   ]
  },
  {
   "cell_type": "code",
   "execution_count": null,
   "id": "80b26ee3",
   "metadata": {
    "scrolled": true
   },
   "outputs": [],
   "source": [
    "scaled_test_embed = scaler.transform(X_test_2d)\n",
    "y_pred = nb.predict(scaled_test_embed)\n",
    "\n",
    "print(classification_report(y_test, y_pred))"
   ]
  },
  {
   "cell_type": "code",
   "execution_count": null,
   "id": "11b1872a",
   "metadata": {},
   "outputs": [],
   "source": [
    "cm = confusion_matrix(y_test, y_pred)\n",
    "\n",
    "plt.figure(figsize = (10,7))\n",
    "sn.heatmap(cm, annot=True, fmt='d')\n",
    "plt.xlabel('Prediction')\n",
    "plt.ylabel('Truth')"
   ]
  },
  {
   "cell_type": "code",
   "execution_count": null,
   "id": "3dc4b016",
   "metadata": {},
   "outputs": [],
   "source": [
    "#save the model\n",
    "joblib.dump(clf, 'model_mnb.pkl') "
   ]
  },
  {
   "attachments": {},
   "cell_type": "markdown",
   "id": "b2190e6b",
   "metadata": {},
   "source": [
    "# KNN"
   ]
  },
  {
   "cell_type": "code",
   "execution_count": null,
   "id": "4cda5bda",
   "metadata": {},
   "outputs": [],
   "source": [
    "knn = KNeighborsClassifier(n_neighbors = 10, metric = 'euclidean')\n",
    "knn.fit(X_train_2d, y_train)"
   ]
  },
  {
   "cell_type": "code",
   "execution_count": null,
   "id": "96971185",
   "metadata": {
    "scrolled": false
   },
   "outputs": [],
   "source": [
    "y_pred = knn.predict(X_test_2d)\n",
    "print(classification_report(y_test, y_pred))"
   ]
  },
  {
   "cell_type": "code",
   "execution_count": null,
   "id": "d7b9555b",
   "metadata": {
    "scrolled": false
   },
   "outputs": [],
   "source": [
    "cm = confusion_matrix(y_test, y_pred)\n",
    "\n",
    "plt.figure(figsize = (10,7))\n",
    "sn.heatmap(cm, annot=True, fmt='d')\n",
    "plt.xlabel('Prediction')\n",
    "plt.ylabel('Truth')"
   ]
  },
  {
   "cell_type": "code",
   "execution_count": null,
   "id": "85d8229a",
   "metadata": {},
   "outputs": [],
   "source": [
    "#save the model\n",
    "joblib.dump(clf, 'model_knn6-test9.pkl') "
   ]
  },
  {
   "attachments": {},
   "cell_type": "markdown",
   "id": "65eb4cba",
   "metadata": {},
   "source": [
    "# Gradient"
   ]
  },
  {
   "cell_type": "code",
   "execution_count": null,
   "id": "a52344a3",
   "metadata": {},
   "outputs": [],
   "source": [
    "grad = GradientBoostingClassifier(n_estimators=100, learning_rate=1.0, max_depth=1, random_state=0).fit(X_train_2d, y_train)"
   ]
  },
  {
   "cell_type": "code",
   "execution_count": null,
   "id": "a09c01e1",
   "metadata": {},
   "outputs": [],
   "source": [
    "y_pred = grad.predict(X_test_2d)\n",
    "print(classification_report(y_test, y_pred))"
   ]
  },
  {
   "cell_type": "code",
   "execution_count": null,
   "id": "3b84fd0c",
   "metadata": {},
   "outputs": [],
   "source": [
    "cm = confusion_matrix(y_test, y_pred)\n",
    "\n",
    "plt.figure(figsize = (10,7))\n",
    "sn.heatmap(cm, annot=True, fmt='d')\n",
    "plt.xlabel('Prediction')\n",
    "plt.ylabel('Truth')"
   ]
  },
  {
   "cell_type": "code",
   "execution_count": null,
   "id": "739da914",
   "metadata": {},
   "outputs": [],
   "source": []
  },
  {
   "attachments": {},
   "cell_type": "markdown",
   "id": "fa2b4304",
   "metadata": {},
   "source": [
    "# Model testing"
   ]
  },
  {
   "cell_type": "code",
   "execution_count": null,
   "id": "5a278814",
   "metadata": {},
   "outputs": [],
   "source": [
    "import joblib\n",
    "import spacy\n",
    "import numpy as np\n",
    "#load the model\n",
    "model = joblib.load('model_tree1.pkl')\n",
    "nlp = spacy.load(\"ru2_combined_400ks_96\")"
   ]
  },
  {
   "cell_type": "code",
   "execution_count": null,
   "id": "3b8a4310",
   "metadata": {
    "scrolled": true
   },
   "outputs": [],
   "source": [
    "test_text = 'бестселле'\n",
    "vector = nlp(test_text).vector\n",
    "vector_2d = np.stack(vector)\n",
    "res = model.predict(vector_2d.reshape(1, -1))\n",
    "print(res)"
   ]
  },
  {
   "cell_type": "code",
   "execution_count": null,
   "id": "fc1ec99b",
   "metadata": {},
   "outputs": [],
   "source": []
  }
 ],
 "metadata": {
  "kernelspec": {
   "display_name": "classification",
   "language": "python",
   "name": "classification"
  },
  "language_info": {
   "codemirror_mode": {
    "name": "ipython",
    "version": 3
   },
   "file_extension": ".py",
   "mimetype": "text/x-python",
   "name": "python",
   "nbconvert_exporter": "python",
   "pygments_lexer": "ipython3",
   "version": "3.9.13"
  }
 },
 "nbformat": 4,
 "nbformat_minor": 5
}
